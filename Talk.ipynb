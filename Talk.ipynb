{
 "cells": [
  {
   "cell_type": "markdown",
   "id": "342bc8c4-259d-4735-b3f5-c1f2f0402e1f",
   "metadata": {
    "tags": []
   },
   "source": [
    "# Markov-Chain Monte Carlo - For Fun and Profit\n",
    "\n",
    "In which we will\n",
    "\n",
    "- Learn what MCMC is\n",
    "- Calculate $\\pi$ (in a very inefficient way)\n",
    "- Calculate hard disk failure rates\n",
    "- Break encryption (in a very inefficient way)\n",
    "\n",
    "## Markov Chain\n",
    "\n",
    "A series of states $X_t$, where $X_t$ is at most dependent on $X_{t-1}$.\n",
    "\n",
    "## Monte Carlo\n",
    "\n",
    "A simulation where one uses randomness to simulate outcomes.\n",
    "\n",
    "## Where is it used?\n",
    "\n",
    "- Statistics: Estimate complicated models efficiently\n",
    "- Phsyics: Simulate Quantum systems\n",
    "- Investment: Optimize portfolios\n",
    "- More generic:\n",
    "\n",
    "Evaluating complicated integrals:\n",
    "\n",
    "$\\int f(x) p(x) \\mathrm{d}x \\approx \\frac{1}{N} \\sum_x f(x)$\n",
    "\n",
    "... with a special trick: Metropolis-Hastings ... but more on that later.\n"
   ]
  },
  {
   "cell_type": "markdown",
   "id": "366f2357-d84b-4e5f-b27c-736c53d53007",
   "metadata": {},
   "source": [
    "## Metropolis Hastings\n",
    "\n",
    "1. Start with $X_i$.\n",
    "2. Create a new candidate $X'$.\n",
    "3. Calculate $a = p(X') / p(X_i)$.\n",
    "4. Set $X_{i+1} = X_i$ with probability $\\mathrm{max}(a, 1)$, else $X_{i+1} = X_i$.\n"
   ]
  }
 ],
 "metadata": {
  "kernelspec": {
   "display_name": "Python 3 (ipykernel)",
   "language": "python",
   "name": "python3"
  },
  "language_info": {
   "codemirror_mode": {
    "name": "ipython",
    "version": 3
   },
   "file_extension": ".py",
   "mimetype": "text/x-python",
   "name": "python",
   "nbconvert_exporter": "python",
   "pygments_lexer": "ipython3",
   "version": "3.10.4"
  }
 },
 "nbformat": 4,
 "nbformat_minor": 5
}
